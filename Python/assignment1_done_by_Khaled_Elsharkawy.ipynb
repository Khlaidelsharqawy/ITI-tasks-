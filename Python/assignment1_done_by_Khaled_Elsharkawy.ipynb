{
  "cells": [
    {
      "cell_type": "markdown",
      "id": "549348c4",
      "metadata": {
        "id": "549348c4"
      },
      "source": [
        "# Collections, loops and if-conditions:"
      ]
    },
    {
      "cell_type": "code",
      "execution_count": null,
      "id": "8ee32227",
      "metadata": {
        "colab": {
          "base_uri": "https://localhost:8080/"
        },
        "id": "8ee32227",
        "outputId": "6380b153-c7f1-4b91-fe69-c640baf3be65"
      },
      "outputs": [
        {
          "output_type": "stream",
          "name": "stdout",
          "text": [
            "False\n",
            "True\n",
            "True\n"
          ]
        }
      ],
      "source": [
        "L = [[5, 8, 7], ['hello', 'hi', 'hola'], [6.6, 1.54, 3.99], ['small', 'large']]\n",
        "\n",
        "# Test if 'hola' is in the list L. Save to variable name test1\n",
        "\n",
        "test1 = 'hola' in L\n",
        "\n",
        "# Test if [5, 8, 7] is in the list L. Save to variable name test2\n",
        "\n",
        "test2 = [5, 8, 7] in L\n",
        "\n",
        "# Test if 6.6 is in the third element of list L. Save to variable name test3\n",
        "\n",
        "test3 = 6.6 in L[2]\n",
        "\n",
        "\n",
        "\n",
        "print(test1)\n",
        "print(test2)\n",
        "print(test3)\n"
      ]
    },
    {
      "cell_type": "code",
      "execution_count": null,
      "id": "80c593b0",
      "metadata": {
        "colab": {
          "base_uri": "https://localhost:8080/"
        },
        "id": "80c593b0",
        "outputId": "4c19ec60-45a7-4149-fd59-b532b5ea8fa0"
      },
      "outputs": [
        {
          "output_type": "stream",
          "name": "stdout",
          "text": [
            "True\n",
            "False\n",
            "False\n",
            "False\n"
          ]
        }
      ],
      "source": [
        "nested = {'data': ['finding', 23, ['exercises', 'hangout', 34]], 'window': ['part', 'whole', [], 'sum', ['math', 'calculus', 'algebra', 'geometry', 'statistics',\n",
        "                                                                                                         ['physics', 'chemistry', 'biology']]]}\n",
        "\n",
        "# Check to see if the string data is a key in nested, if it is, assign True to the variable data, otherwise assign False.\n",
        "\n",
        "data = 'data' in nested\n",
        "\n",
        "# Check to see if the integer 24 is in the value of the key data, if it is then assign to the variable twentyfour the value of True, otherwise False.\n",
        "\n",
        "twentyfour = 24 in nested['data']\n",
        "\n",
        "# Check to see that the string 'whole' is not in the value of the key window. If it's not, then assign to the variable whole the value of True, otherwise False.\n",
        "\n",
        "whole = 'whole' not in nested['window']\n",
        "\n",
        "# Check to see if the string 'physics' is a key in the dictionary nested. If it is, assign to the variable physics, the value of True, otherwise False.\n",
        "\n",
        "physics = 'physics' in nested\n",
        "\n",
        "# OUTPUT\n",
        "\n",
        "print(data)\n",
        "print(twentyfour)\n",
        "print(whole)\n",
        "print(physics)"
      ]
    },
    {
      "cell_type": "code",
      "execution_count": null,
      "id": "2515ded0",
      "metadata": {
        "colab": {
          "base_uri": "https://localhost:8080/"
        },
        "id": "2515ded0",
        "outputId": "49bbad64-eb9f-4449-d9eb-97340f06d41f"
      },
      "outputs": [
        {
          "output_type": "stream",
          "name": "stdout",
          "text": [
            "backstroke\n",
            "platform\n",
            "['vault', 'floor', 'uneven bars', 'balance beam']\n",
            "rings\n"
          ]
        }
      ],
      "source": [
        "sports = {'swimming': ['butterfly', 'breaststroke', 'backstroke', 'freestyle'], 'diving': ['springboard', 'platform', 'synchronized'],\n",
        "          'track': ['sprint', 'distance', 'jumps', 'throws'], 'gymnastics': {'women':['vault', 'floor', 'uneven bars', 'balance beam'],\n",
        "                                                                             'men': ['vault', 'parallel bars', 'floor', 'rings']}}\n",
        "\n",
        "# Assign the string 'backstroke' to the variable name v1\n",
        "\n",
        "v1 = sports['swimming'][2]\n",
        "\n",
        "# Assign the string 'platform' to the variable name v2\n",
        "\n",
        "v2 = sports['diving'][1]\n",
        "\n",
        "# Assign the list ['vault', 'floor', 'uneven bars', 'balance beam'] to the variable name v3\n",
        "\n",
        "v3 = sports['gymnastics']['women']\n",
        "\n",
        "# Assign the string 'rings' to the variable name v4\n",
        "\n",
        "v4 = sports['gymnastics']['men'][3]\n",
        "\n",
        "\n",
        "\n",
        "# Output\n",
        "print(v1)\n",
        "print(v2)\n",
        "print(v3)\n",
        "print(v4)\n"
      ]
    },
    {
      "cell_type": "code",
      "execution_count": null,
      "id": "da9948f1",
      "metadata": {
        "colab": {
          "base_uri": "https://localhost:8080/"
        },
        "id": "da9948f1",
        "outputId": "cd201511-0e0c-417b-ef76-d080faba008e"
      },
      "outputs": [
        {
          "output_type": "stream",
          "name": "stdout",
          "text": [
            "[36, 46, 35]\n"
          ]
        }
      ],
      "source": [
        "# Given the dictionary `nested_d`, save the medal count for the USA from all three Olympics in the dictionary to the list `us_count`\n",
        "\n",
        "\n",
        "nested_d = {'Beijing':{'China':51, 'USA':36, 'Russia':22, 'Great Britain':19}, 'London':{'USA':46, 'China':38, 'Great Britain':29, 'Russia':22},\n",
        "            'Rio':{'USA':35, 'Great Britain':22, 'China':20, 'Germany':13}}\n",
        "\n",
        "us_count = [\n",
        "    nested_d['Beijing']['USA'],\n",
        "    nested_d['London']['USA'],\n",
        "    nested_d['Rio']['USA']\n",
        "]\n",
        "\n",
        "\n",
        "\n",
        "\n",
        "\n",
        "# OUtput\n",
        "print(us_count)"
      ]
    },
    {
      "cell_type": "code",
      "execution_count": null,
      "id": "3fd6f734",
      "metadata": {
        "colab": {
          "base_uri": "https://localhost:8080/"
        },
        "id": "3fd6f734",
        "outputId": "d5c61809-092a-42ff-9f33-9f4b8a0436a3"
      },
      "outputs": [
        {
          "output_type": "stream",
          "name": "stdout",
          "text": [
            "[36, 46, 35]\n"
          ]
        }
      ],
      "source": [
        "# The same as before but figure out what is the difference and how to do it!!!\n",
        "\n",
        "\n",
        "nested_d = {'Beijing':[('China', 51), ('USA', 36), ('Russia', 22), ('Great Britain', 19)], 'London':{'USA':46, 'China':38, 'Great Britain':29, 'Russia':22},\n",
        "            'Rio':\"\"\"USA=35, Great_Britain=22, China=20, Germany=13\"\"\"}\n",
        "\n",
        "us_count = []\n",
        "\n",
        "# From Beijing\n",
        "for country, medals in nested_d['Beijing']:\n",
        "    if country == 'USA':\n",
        "        us_count.append(medals)\n",
        "\n",
        "# From London\n",
        "us_count.append(nested_d['London']['USA'])\n",
        "\n",
        "# From Rio\n",
        "for entry in nested_d['Rio'].split(','):\n",
        "    if 'USA' in entry:\n",
        "        us_count.append(int(entry.split('=')[1]))\n",
        "\n",
        "print(us_count)"
      ]
    },
    {
      "cell_type": "code",
      "execution_count": null,
      "id": "4a71a5a8",
      "metadata": {
        "colab": {
          "base_uri": "https://localhost:8080/"
        },
        "id": "4a71a5a8",
        "outputId": "c5fced7a-65f3-4220-e8ca-2d8176177210"
      },
      "outputs": [
        {
          "output_type": "stream",
          "name": "stdout",
          "text": [
            "['Lochte', 'Bolt', 'Eaton', 'Dalton']\n",
            "['Phelps', 'Schooling', 'Ledecky', 'Franklin', 'Felix', 'Gardner', 'Biles', 'Douglas', 'Hamm', 'Raisman', 'Mikulak']\n"
          ]
        }
      ],
      "source": [
        "# Given below is a list of lists of athletes. Create a list `t`, that saves only the athlete's name if it contains the letter \"t\"\n",
        "# If it doesn't contain the letter \"t\", save the athlete name into list `other`.\n",
        "\n",
        "\n",
        "athletes = [['Phelps', 'Lochte', 'Schooling', 'Ledecky', 'Franklin'], ['Felix', 'Bolt', 'Gardner', 'Eaton'], ['Biles', 'Douglas', 'Hamm', 'Raisman', 'Mikulak', 'Dalton']]\n",
        "\n",
        "# Flatten the list of lists and classify names based on presence of 't'\n",
        "t = []\n",
        "other = []\n",
        "\n",
        "for sublist in athletes:\n",
        "    for name in sublist:\n",
        "        if 't' in name.lower():\n",
        "            t.append(name)\n",
        "        else:\n",
        "            other.append(name)\n",
        "\n",
        "\n",
        "\n",
        "\n",
        "print(t)\n",
        "print(other)\n",
        "\n"
      ]
    },
    {
      "cell_type": "markdown",
      "id": "10a4e967",
      "metadata": {
        "id": "10a4e967"
      },
      "source": [
        "## Let's level up\n",
        "* List comprehension and lambda function\n",
        "* functional programming (map, filter, reduce)"
      ]
    },
    {
      "cell_type": "code",
      "execution_count": null,
      "id": "e84d6938",
      "metadata": {
        "colab": {
          "base_uri": "https://localhost:8080/"
        },
        "id": "e84d6938",
        "outputId": "f79d76b5-dddb-47ac-efbf-1b9b72b763e1"
      },
      "outputs": [
        {
          "output_type": "stream",
          "name": "stdout",
          "text": [
            "['Fruit: plums', 'Fruit: watermelon', 'Fruit: kiwi', 'Fruit: strawberries', 'Fruit: blueberries', 'Fruit: peaches', 'Fruit: apples', 'Fruit: mangos', 'Fruit: papaya']\n"
          ]
        }
      ],
      "source": [
        "# Write code to assign to the variable map_testing all the elements in lst_check\n",
        "# while adding the string \"Fruit\" to the beginning of each element usig mapping and lambda function\n",
        "\n",
        "\n",
        "lst_check = ['plums', 'watermelon', 'kiwi', 'strawberries', 'blueberries', 'peaches', 'apples', 'mangos', 'papaya']\n",
        "\n",
        "lst_check = [\n",
        "    'plums', 'watermelon', 'kiwi', 'strawberries', 'blueberries',\n",
        "    'peaches', 'apples', 'mangos', 'papaya'\n",
        "]\n",
        "\n",
        "# Map each fruit to the format \"Fruit: <name>\"\n",
        "map_testing = list(map(lambda fruit: f\"Fruit: {fruit}\", lst_check))\n",
        "\n",
        "print(map_testing)\n"
      ]
    },
    {
      "cell_type": "code",
      "execution_count": null,
      "id": "3d6b5f05",
      "metadata": {
        "colab": {
          "base_uri": "https://localhost:8080/"
        },
        "id": "3d6b5f05",
        "outputId": "bf5519e5-5a6c-4f63-9b5e-a88ff7cfc140"
      },
      "outputs": [
        {
          "output_type": "stream",
          "name": "stdout",
          "text": [
            "['Brazil', 'Botswana', 'Britain', 'Bangladesh', 'Belarus', 'Belgium']\n"
          ]
        }
      ],
      "source": [
        "# Below, a list of countries, Use filter to produce a list called b_countries that only contains strings from countries list that begin with B\n",
        "\n",
        "\n",
        "countries = ['Canada', 'Mexico', 'Brazil', 'Chile', 'Denmark', 'Botswana', 'Spain', 'Britain', 'Portugal', 'Russia', 'Thailand', 'Bangladesh', 'Nigeria',\n",
        "             'Argentina', 'Belarus', 'Laos', 'Australia', 'Panama', 'Egypt', 'Morocco', 'Switzerland', 'Belgium']\n",
        "\n",
        "\n",
        "# Filter countries starting with 'B'\n",
        "b_countries = list(filter(lambda country: country.startswith('B'), countries))\n",
        "\n",
        "print(b_countries)\n"
      ]
    },
    {
      "cell_type": "code",
      "execution_count": null,
      "id": "96ad3d92",
      "metadata": {
        "colab": {
          "base_uri": "https://localhost:8080/"
        },
        "id": "96ad3d92",
        "outputId": "ff5548f3-569a-495f-e20f-d0f25db68d87"
      },
      "outputs": [
        {
          "output_type": "stream",
          "name": "stdout",
          "text": [
            "['Jon', 'Cersei', 'Arya', 'Robb', 'Jamie', 'Daenerys', 'Sansa', 'Margaery', 'Eddard', 'Tyrion', 'Joffrey', 'Ramsey', 'Peter']\n"
          ]
        }
      ],
      "source": [
        "# Below, a list of tuples contain the names of Game of Thrones characters. Using list comprehension, create a list of strings called\n",
        "# `first_names` that contains only the first names of everyone in the original list\n",
        "\n",
        "\n",
        "people = [('Snow', 'Jon'), ('Lannister', 'Cersei'), ('Stark', 'Arya'), ('Stark', 'Robb'), ('Lannister', 'Jamie'), ('Targaryen', 'Daenerys'), ('Stark', 'Sansa'),\n",
        "          ('Tyrell', 'Margaery'), ('Stark', 'Eddard'), ('Lannister', 'Tyrion'), ('Baratheon', 'Joffrey'), ('Bolton', 'Ramsey'), ('Baelish', 'Peter')]\n",
        "\n",
        "\n",
        "\n",
        "\n",
        "# Extract first names using list comprehension\n",
        "first_names = [first for _, first in people]\n",
        "\n",
        "print(first_names)\n",
        "\n"
      ]
    },
    {
      "cell_type": "code",
      "execution_count": null,
      "id": "3e6c1ef1",
      "metadata": {
        "colab": {
          "base_uri": "https://localhost:8080/"
        },
        "id": "3e6c1ef1",
        "outputId": "c8f78c49-cd17-489a-efec-95426fbe2c2e"
      },
      "outputs": [
        {
          "output_type": "stream",
          "name": "stdout",
          "text": [
            "['Tommy', 'Carl', 'Bob', 'Sue']\n"
          ]
        }
      ],
      "source": [
        "# Below, a list of tuples that contain students' names and their final grades, Using list comprehension, create a new list `passed`\n",
        "# that contains the names of students who passed the class (had a final grade of 70 or greater)\n",
        "\n",
        "\n",
        "students = [('Tommy', 95), ('Linda', 63), ('Carl', 70), ('Bob', 100), ('Raymond', 50), ('Sue', 75)]\n",
        "\n",
        "\n",
        "\n",
        "\n",
        "# Keep names of students with grade >= 70\n",
        "passed = [name for name, grade in students if grade >= 70]\n",
        "\n",
        "print(passed)\n",
        "\n"
      ]
    },
    {
      "cell_type": "code",
      "execution_count": null,
      "id": "3111d218",
      "metadata": {
        "colab": {
          "base_uri": "https://localhost:8080/"
        },
        "id": "3111d218",
        "outputId": "d188a356-ff0f-4cc1-e015-440c48920589"
      },
      "outputs": [
        {
          "output_type": "stream",
          "name": "stdout",
          "text": [
            "[('left', 'right'), ('front', 'back')]\n"
          ]
        }
      ],
      "source": [
        "# Write code using zip and filter so that these lists (l1, l2) are combined into one big list and assigned\n",
        "# to the variable `opposites` if they are both longer than 3 characters each.\n",
        "\n",
        "\n",
        "l1 = ['left', 'up', 'front']\n",
        "l2 = ['right', 'down', 'back']\n",
        "\n",
        "\n",
        "\n",
        "# Zip lists and filter pairs where both strings are longer than 3 characters\n",
        "opposites = list(filter(lambda pair: len(pair[0]) > 3 and len(pair[1]) > 3, zip(l1, l2)))\n",
        "\n",
        "print(opposites)\n"
      ]
    },
    {
      "cell_type": "code",
      "execution_count": null,
      "id": "beb5ff94",
      "metadata": {
        "colab": {
          "base_uri": "https://localhost:8080/"
        },
        "id": "beb5ff94",
        "outputId": "07d53152-8f6a-4548-af92-dfee2d1787d1"
      },
      "outputs": [
        {
          "output_type": "stream",
          "name": "stdout",
          "text": [
            "[('golden retriever', 10000), ('white tailed deer', 90000), ('black rhino', 1000), ('brown squirrel', 2000000), ('field mouse', 500000), ('orangutan', 500), ('sumatran elephant', 1200), ('rainbow trout', 8000), ('black bear', 12000), ('blue whale', 2300), ('water moccasin', 7500), ('giant panda', 100), ('green turtle', 1800), ('blue jay', 9500), ('japanese beetle', 125000)]\n",
            "['black rhino', 'orangutan', 'sumatran elephant', 'blue whale', 'giant panda', 'green turtle']\n"
          ]
        }
      ],
      "source": [
        "# Below two lists `species` and `population`. Use zip to combine these lists into one list of tuples called `pop_info`\n",
        "# From this list, create a new list called `endangered` that contains the names of specis whose populations are below 2500\n",
        "\n",
        "\n",
        "species = ['golden retriever', 'white tailed deer', 'black rhino', 'brown squirrel', 'field mouse', 'orangutan', 'sumatran elephant', 'rainbow trout', 'black bear',\n",
        "           'blue whale', 'water moccasin', 'giant panda', 'green turtle', 'blue jay', 'japanese beetle']\n",
        "\n",
        "population = [10000, 90000, 1000, 2000000, 500000, 500, 1200, 8000, 12000, 2300, 7500, 100, 1800, 9500, 125000]\n",
        "\n",
        "\n",
        "# Combine species and population into list of tuples\n",
        "pop_info = list(zip(species, population))\n",
        "\n",
        "# Extract endangered species (population < 2500)\n",
        "endangered = [name for name, pop in pop_info if pop < 2500]\n",
        "\n",
        "print(pop_info)\n",
        "print(endangered)\n"
      ]
    },
    {
      "cell_type": "markdown",
      "id": "08f21076",
      "metadata": {
        "id": "08f21076"
      },
      "source": [
        "---\n",
        "\n",
        "# Functions:\n",
        "\n",
        "### Question-1\n",
        "Write a function called check_nums that takes a list as its parameter, and contains a while loop that only stops once the element of the\n",
        "list is the number 7. What is returned is a list of all of the numbers up until it reaches 7.\n",
        "\n",
        "e.g; \\\n",
        "print(check_nums([0,2,4,9,2,3,6,8,12,14,7,9,10,8,3])) ==> [0, 2, 4, 9, 2, 3, 6, 8, 12, 14]"
      ]
    },
    {
      "cell_type": "code",
      "execution_count": null,
      "id": "df27b02f",
      "metadata": {
        "colab": {
          "base_uri": "https://localhost:8080/"
        },
        "id": "df27b02f",
        "outputId": "4998e3a1-5416-4e03-9584-d10eb42661f1"
      },
      "outputs": [
        {
          "output_type": "stream",
          "name": "stdout",
          "text": [
            "[0, 2, 4, 9, 2, 3, 6, 8, 12, 14]\n"
          ]
        }
      ],
      "source": [
        "def check_nums(lst):\n",
        "    \"\"\"\n",
        "    Returns a list of numbers from lst until the number 7 is encountered.\n",
        "    The number 7 itself is not included in the result.\n",
        "    \"\"\"\n",
        "    result = []\n",
        "    i = 0\n",
        "\n",
        "    while i < len(lst):\n",
        "        if lst[i] == 7:\n",
        "            break\n",
        "        result.append(lst[i])\n",
        "        i += 1\n",
        "\n",
        "    return result\n",
        "\n",
        "\n",
        "# Example usage:\n",
        "print(check_nums([0, 2, 4, 9, 2, 3, 6, 8, 12, 14, 7, 9, 10, 8, 3]))\n",
        "\n"
      ]
    },
    {
      "cell_type": "markdown",
      "id": "93cde3bf",
      "metadata": {
        "id": "93cde3bf"
      },
      "source": [
        "### Question-2\n",
        "Write a function, test, that takes in three parameters: a required integer, an optional boolean whose default value is True, and an\n",
        "optional dictionary, called dict1, whose default value is {2:3, 4:5, 6:8}. If the boolean parameter is True, the function should test to\n",
        "see if the integer is a key in the dictionary. The value of that key should then be returned. If the boolean parameter is False, return\n",
        "the boolean value “False”.\n",
        "\n",
        "e.g;   \n",
        "print(test(2)) ==> 3 \\\n",
        "print(test(4,False)) ==> False"
      ]
    },
    {
      "cell_type": "code",
      "execution_count": null,
      "id": "a35ee0dd",
      "metadata": {
        "colab": {
          "base_uri": "https://localhost:8080/"
        },
        "id": "a35ee0dd",
        "outputId": "b89f002b-e959-40a9-fd18-8370be3950a2"
      },
      "outputs": [
        {
          "output_type": "stream",
          "name": "stdout",
          "text": [
            "3\n",
            "False\n"
          ]
        }
      ],
      "source": [
        "def test(num, flag=True, dict1={2: 3, 4: 5, 6: 8}):\n",
        "    \"\"\"\n",
        "    Checks if num exists as a key in dict1 when flag is True.\n",
        "    Returns the corresponding value if found, otherwise returns None.\n",
        "    If flag is False, returns False.\n",
        "    \"\"\"\n",
        "    if not flag:\n",
        "        return False\n",
        "\n",
        "    return dict1.get(num)\n",
        "\n",
        "\n",
        "# Example usage:\n",
        "print(test(2))\n",
        "print(test(4, False))\n"
      ]
    },
    {
      "cell_type": "markdown",
      "id": "4f38c63c",
      "metadata": {
        "id": "4f38c63c"
      },
      "source": [
        "### Question-3:\n",
        "Write a function called `checkingIfIn` that takes three parameters. The first is a required parameter, which should be a string. The second\n",
        "is an optional parameter called `direction` with a default value of True. The third is an optional parameter called d that has a default\n",
        "value of {'apple': 2, 'pear': 1, 'fruit': 19, 'orange': 5, 'banana': 3, 'grapes': 2, 'watermelon': 7}. Write the function checkingIfIn\n",
        "so that when the second parameter is True, it checks to see if the first parameter is a key in the third parameter; if it is, return\n",
        "True, otherwise return False.\n",
        "But if the second paramter is False, then the function should check to see if the first parameter is not a key of the third. If it’s not,\n",
        "the function should return True in this case, and if it is, it should return False.\n",
        "\n",
        "e.g; \\\n",
        "print(checkingIfIn('grapes')) # True"
      ]
    },
    {
      "cell_type": "code",
      "execution_count": null,
      "id": "a9c0e04f",
      "metadata": {
        "colab": {
          "base_uri": "https://localhost:8080/"
        },
        "id": "a9c0e04f",
        "outputId": "395e4ecb-1aab-4a18-8a86-4f3abf8acfc2"
      },
      "outputs": [
        {
          "output_type": "stream",
          "name": "stdout",
          "text": [
            "True\n",
            "False\n",
            "True\n",
            "False\n"
          ]
        }
      ],
      "source": [
        "def checkingIfIn(item, direction=True, d={'apple': 2, 'pear': 1, 'fruit': 19, 'orange': 5, 'banana': 3, 'grapes': 2, 'watermelon': 7}):\n",
        "    if direction:\n",
        "        # Check if item is a key in the dictionary\n",
        "        return item in d\n",
        "    else:\n",
        "        # Check if item is NOT a key in the dictionary\n",
        "        return item not in d\n",
        "\n",
        "# Example usage:\n",
        "print(checkingIfIn('grapes'))\n",
        "print(checkingIfIn('mango'))\n",
        "print(checkingIfIn('mango', direction=False))\n",
        "print(checkingIfIn('apple', direction=False))\n"
      ]
    }
  ],
  "metadata": {
    "kernelspec": {
      "display_name": "Python 3 (ipykernel)",
      "language": "python",
      "name": "python3"
    },
    "language_info": {
      "codemirror_mode": {
        "name": "ipython",
        "version": 3
      },
      "file_extension": ".py",
      "mimetype": "text/x-python",
      "name": "python",
      "nbconvert_exporter": "python",
      "pygments_lexer": "ipython3",
      "version": "3.9.13"
    },
    "colab": {
      "provenance": []
    }
  },
  "nbformat": 4,
  "nbformat_minor": 5
}